{
 "cells": [
  {
   "cell_type": "code",
   "execution_count": 1,
   "metadata": {},
   "outputs": [],
   "source": [
    "import pandas as pd\n",
    "import matplotlib.pyplot as plt\n",
    "import seaborn as sn\n",
    "import numpy as np\n",
    "%matplotlib inline"
   ]
  },
  {
   "cell_type": "code",
   "execution_count": 4,
   "metadata": {},
   "outputs": [],
   "source": [
    "full2016 = pd.read_csv(\"../data/2016full.csv\")\n",
    "full2017 = pd.read_csv(\"../data/2017full.csv\")\n",
    "full2018 = pd.read_csv(\"../data/2018full.csv\")\n",
    "full2019 = pd.read_csv(\"../data/2019full.csv\")\n",
    "half2016 = pd.read_csv(\"../data/2016half.csv\")\n",
    "half2017 = pd.read_csv(\"../data/2017half.csv\")\n",
    "half2018 = pd.read_csv(\"../data/2018half.csv\")\n",
    "half2019 = pd.read_csv(\"../data/2019half.csv\")"
   ]
  }
 ],
 "metadata": {
  "kernelspec": {
   "display_name": "Python 3",
   "language": "python",
   "name": "python3"
  },
  "language_info": {
   "codemirror_mode": {
    "name": "ipython",
    "version": 3
   },
   "file_extension": ".py",
   "mimetype": "text/x-python",
   "name": "python",
   "nbconvert_exporter": "python",
   "pygments_lexer": "ipython3",
   "version": "3.7.4"
  }
 },
 "nbformat": 4,
 "nbformat_minor": 2
}
